{
 "cells": [
  {
   "cell_type": "code",
   "execution_count": 1,
   "id": "028b2bdc-de44-4ae8-9f4d-602f173dbb1c",
   "metadata": {},
   "outputs": [
    {
     "name": "stdout",
     "output_type": "stream",
     "text": [
      "文本A与文本B的相似度: 0.032314570324993165\n"
     ]
    }
   ],
   "source": [
    "from sklearn.feature_extraction.text import TfidfVectorizer\n",
    "from sklearn.metrics.pairwise import cosine_similarity\n",
    "import docx\n",
    "\n",
    "# 读取Word文档内容\n",
    "def read_docx(file_path):\n",
    "    doc = docx.Document(file_path)\n",
    "    full_text = []\n",
    "    for para in doc.paragraphs:\n",
    "        full_text.append(para.text)\n",
    "    return ' '.join(full_text)\n",
    "\n",
    "# 读取文本A和文本B的内容\n",
    "text_a = read_docx(r'C:\\Users\\P3516\\Desktop\\AI项目面试试题\\文本A.docx')\n",
    "text_b = read_docx(r'C:\\Users\\P3516\\Desktop\\AI项目面试试题\\文本B.docx')\n",
    "\n",
    "# 使用TF-IDF计算文本相似度\n",
    "vectorizer = TfidfVectorizer()\n",
    "tfidf_matrix = vectorizer.fit_transform([text_a, text_b])\n",
    "\n",
    "# 计算余弦相似度\n",
    "cosine_sim = cosine_similarity(tfidf_matrix[0:1], tfidf_matrix[1:2])\n",
    "\n",
    "print(f\"文本A与文本B的相似度: {cosine_sim[0][0]}\")\n"
   ]
  },
  {
   "cell_type": "code",
   "execution_count": null,
   "id": "c64d4e38-53af-4cb3-820d-c5967153909a",
   "metadata": {},
   "outputs": [],
   "source": [
    "from transformers import DistilBertTokenizer, DistilBertModel\n",
    "import torch\n",
    "from sklearn.metrics.pairwise import cosine_similarity\n",
    "import docx\n",
    "\n",
    "# 读取Word文档内容\n",
    "def read_docx(file_path):\n",
    "    doc = docx.Document(file_path)\n",
    "    full_text = []\n",
    "    for para in doc.paragraphs:\n",
    "        full_text.append(para.text)\n",
    "    return ' '.join(full_text)\n",
    "\n",
    "# 加载DistilBERT模型和分词器\n",
    "tokenizer = DistilBertTokenizer.from_pretrained('distilbert-base-uncased')\n",
    "model = DistilBertModel.from_pretrained('distilbert-base-uncased')\n",
    "\n",
    "# 获取文本的BERT嵌入向量，并限制最大长度为256\n",
    "def get_bert_embedding(text, max_length=256):\n",
    "    inputs = tokenizer(text, return_tensors='pt', max_length=max_length, truncation=True, padding='max_length')\n",
    "    with torch.no_grad():  # 关闭梯度计算以节省内存\n",
    "        outputs = model(**inputs)\n",
    "    return outputs.last_hidden_state[:, 0, :].numpy()  # 获取[CLS] token的向量\n",
    "\n",
    "# 读取上传到Colab中的文本文件\n",
    "text_a = read_docx('/content/文本A.docx')  # 确认路径\n",
    "text_b = read_docx('/content/文本B.docx')  # 确认路径\n",
    "\n",
    "# 获取文本的BERT嵌入向量\n",
    "embedding_a = get_bert_embedding(text_a)\n",
    "embedding_b = get_bert_embedding(text_b)\n",
    "\n",
    "# 计算余弦相似度\n",
    "similarity = cosine_similarity(embedding_a, embedding_b)\n",
    "\n",
    "# 输出相似度\n",
    "print(f\"文本A与文本B的相似度: {similarity[0][0]}\")"
   ]
  },
  {
   "cell_type": "code",
   "execution_count": null,
   "id": "a1e0bdf2-d13e-4f3f-9f3a-c2a5aad02075",
   "metadata": {},
   "outputs": [],
   "source": [
    "文本A与文本B的相似度: 0.9975895285606384"
   ]
  }
 ],
 "metadata": {
  "kernelspec": {
   "display_name": "Python 3 (ipykernel)",
   "language": "python",
   "name": "python3"
  },
  "language_info": {
   "codemirror_mode": {
    "name": "ipython",
    "version": 3
   },
   "file_extension": ".py",
   "mimetype": "text/x-python",
   "name": "python",
   "nbconvert_exporter": "python",
   "pygments_lexer": "ipython3",
   "version": "3.11.5"
  }
 },
 "nbformat": 4,
 "nbformat_minor": 5
}
